{
 "cells": [
  {
   "cell_type": "code",
   "execution_count": 7,
   "metadata": {},
   "outputs": [
    {
     "ename": "NameError",
     "evalue": "name 'ListNode' is not defined",
     "output_type": "error",
     "traceback": [
      "\u001b[0;31m---------------------------------------------------------------------------\u001b[0m",
      "\u001b[0;31mNameError\u001b[0m                                 Traceback (most recent call last)",
      "\u001b[1;32m/Users/moonmoonji/Desktop/220902_코테스터디.ipynb 셀 1\u001b[0m in \u001b[0;36m<cell line: 1>\u001b[0;34m()\u001b[0m\n\u001b[0;32m----> <a href='vscode-notebook-cell:/Users/moonmoonji/Desktop/220902_%EC%BD%94%ED%85%8C%EC%8A%A4%ED%84%B0%EB%94%94.ipynb#W0sZmlsZQ%3D%3D?line=0'>1</a>\u001b[0m \u001b[39mclass\u001b[39;00m \u001b[39mMyCircularDeque\u001b[39;00m:\n\u001b[1;32m      <a href='vscode-notebook-cell:/Users/moonmoonji/Desktop/220902_%EC%BD%94%ED%85%8C%EC%8A%A4%ED%84%B0%EB%94%94.ipynb#W0sZmlsZQ%3D%3D?line=2'>3</a>\u001b[0m     \u001b[39mdef\u001b[39;00m \u001b[39m__init__\u001b[39m(\u001b[39mself\u001b[39m, k: \u001b[39mint\u001b[39m):\n\u001b[1;32m      <a href='vscode-notebook-cell:/Users/moonmoonji/Desktop/220902_%EC%BD%94%ED%85%8C%EC%8A%A4%ED%84%B0%EB%94%94.ipynb#W0sZmlsZQ%3D%3D?line=3'>4</a>\u001b[0m         \u001b[39mself\u001b[39m\u001b[39m.\u001b[39mhead, \u001b[39mself\u001b[39m\u001b[39m.\u001b[39mtail \u001b[39m=\u001b[39m ListNode(\u001b[39mNone\u001b[39;00m), ListNode(\u001b[39mNone\u001b[39;00m) \n",
      "\u001b[1;32m/Users/moonmoonji/Desktop/220902_코테스터디.ipynb 셀 1\u001b[0m in \u001b[0;36mMyCircularDeque\u001b[0;34m()\u001b[0m\n\u001b[1;32m      <a href='vscode-notebook-cell:/Users/moonmoonji/Desktop/220902_%EC%BD%94%ED%85%8C%EC%8A%A4%ED%84%B0%EB%94%94.ipynb#W0sZmlsZQ%3D%3D?line=4'>5</a>\u001b[0m     \u001b[39mself\u001b[39m\u001b[39m.\u001b[39mk, \u001b[39mself\u001b[39m\u001b[39m.\u001b[39mlen \u001b[39m=\u001b[39m k,\u001b[39m0\u001b[39m\n\u001b[1;32m      <a href='vscode-notebook-cell:/Users/moonmoonji/Desktop/220902_%EC%BD%94%ED%85%8C%EC%8A%A4%ED%84%B0%EB%94%94.ipynb#W0sZmlsZQ%3D%3D?line=5'>6</a>\u001b[0m     \u001b[39mself\u001b[39m\u001b[39m.\u001b[39mhead\u001b[39m.\u001b[39mright, \u001b[39mself\u001b[39m\u001b[39m.\u001b[39mtail\u001b[39m.\u001b[39mleft \u001b[39m=\u001b[39m \u001b[39mself\u001b[39m\u001b[39m.\u001b[39mtail, \u001b[39mself\u001b[39m\u001b[39m.\u001b[39mhead\n\u001b[0;32m----> <a href='vscode-notebook-cell:/Users/moonmoonji/Desktop/220902_%EC%BD%94%ED%85%8C%EC%8A%A4%ED%84%B0%EB%94%94.ipynb#W0sZmlsZQ%3D%3D?line=7'>8</a>\u001b[0m \u001b[39mdef\u001b[39;00m \u001b[39minsert\u001b[39m(\u001b[39mself\u001b[39m, node: ListNode, new: ListNode): \n\u001b[1;32m      <a href='vscode-notebook-cell:/Users/moonmoonji/Desktop/220902_%EC%BD%94%ED%85%8C%EC%8A%A4%ED%84%B0%EB%94%94.ipynb#W0sZmlsZQ%3D%3D?line=8'>9</a>\u001b[0m     n \u001b[39m=\u001b[39m node\u001b[39m.\u001b[39mright \n\u001b[1;32m     <a href='vscode-notebook-cell:/Users/moonmoonji/Desktop/220902_%EC%BD%94%ED%85%8C%EC%8A%A4%ED%84%B0%EB%94%94.ipynb#W0sZmlsZQ%3D%3D?line=9'>10</a>\u001b[0m     node\u001b[39m.\u001b[39mright \u001b[39m=\u001b[39m new \n",
      "\u001b[0;31mNameError\u001b[0m: name 'ListNode' is not defined"
     ]
    }
   ],
   "source": [
    "# 리트코드 : 원형 데크 디자인 \n",
    "class MyCircularDeque:\n",
    "\n",
    "    def __init__(self, k: int):\n",
    "        self.head, self.tail = ListNode(None), ListNode(None) \n",
    "        self.k, self.len = k,0\n",
    "        self.head.right, self.tail.left = self.tail, self.head\n",
    "\n",
    "    def insert(self, node: ListNode, new: ListNode): \n",
    "        n = node.right \n",
    "        node.right = new \n",
    "        new.left, new.right = node, n \n",
    "        n.left = new  \n",
    "\n",
    "    def remove(self, node : ListNode):\n",
    "        n = node.right.right \n",
    "        node.right = n\n",
    "        n.left = node \n",
    "\n",
    "    def insertFront(self, value: int) -> bool:\n",
    "        # Node의 개수가 maximum lengt보다 클 때 false 반환함 \n",
    "        if self.len == self.k : \n",
    "            return False\n",
    "        self.len += 1 \n",
    "        self.insert(self.head,ListNode(value))\n",
    "        return True \n",
    "\n",
    "    def insertLast(self, value: int) -> bool:\n",
    "        if self.len == self.k :\n",
    "            return False \n",
    "        self.len += 1 \n",
    "        self.insert(self.tail.left,ListNode(value)) \n",
    "        return True\n",
    "\n",
    "    def deleteFront(self) -> bool:\n",
    "        # 노드가 아무것도 없을 땐 삭제 불가능하니까 False 반환\n",
    "        if self.len == 0 : \n",
    "            return False \n",
    "        self.len -= 1 \n",
    "        self.remove(self.head) #왜냐면 head의 옆에거 삭제해줌 \n",
    "        return True\n",
    "\n",
    "    def deleteLast(self) -> bool:\n",
    "        if self.len == 0 : \n",
    "            return False \n",
    "        self.len -= 1 \n",
    "        self.remove(self.tail.left.left)\n",
    "        return True \n",
    "\n",
    "    def getFront(self) -> int:\n",
    "        return self.head.right.val if self.len else -1 \n",
    "\n",
    "    def getRear(self) -> int:\n",
    "        return self.tail.left.val if self.len else -1 \n",
    "\n",
    "    def isEmpty(self) -> bool:\n",
    "        return self.len == 0 \n",
    "\n",
    "    def isFull(self) -> bool:\n",
    "        return self.len == self.k"
   ]
  },
  {
   "cell_type": "code",
   "execution_count": 36,
   "metadata": {},
   "outputs": [
    {
     "data": {
      "text/plain": [
       "1"
      ]
     },
     "execution_count": 36,
     "metadata": {},
     "output_type": "execute_result"
    }
   ],
   "source": [
    "# 리트코드 : k개 정렬 리스트 병합 \n",
    "from typing import List\n",
    "import heapq\n",
    "\n",
    "class ListNode:\n",
    "    def __init__(self, x):\n",
    "        self.val = x\n",
    "        self.next = None\n",
    "\n",
    "l1 = ListNode(1)\n",
    "l1.next = ListNode(4)\n",
    "l1.next.next = ListNode(5)\n",
    "\n",
    "l2 = ListNode(1)\n",
    "l2.next = ListNode(3)\n",
    "l2.next.next = ListNode(4)\n",
    "\n",
    "l3 = ListNode(2)\n",
    "l3.next = ListNode(6) \n",
    "\n",
    "class Solution:\n",
    "    def mergeKLists(self, lists: List[ListNode]) -> ListNode:\n",
    "        root = result = ListNode(None)\n",
    "        heap = [] \n",
    "\n",
    "        for i in range(len(lists)):\n",
    "            if lists[i] : \n",
    "                heapq.heappush(heap, (lists[i].val, i, lists[i]))\n",
    "        \n",
    "        while heap:\n",
    "            node = heapq.heappop(heap)\n",
    "            idx = node[1]\n",
    "            result.next = node[2]\n",
    "\n",
    "            result = result.next\n",
    "            if result.next:\n",
    "                heapq.heappush(heap, (result.next.val, idx, result.next))\n",
    "\n",
    "        return root.next\n",
    "\n",
    "Solution().mergeKLists([l1,l2,l3]).val\n"
   ]
  },
  {
   "cell_type": "code",
   "execution_count": 31,
   "metadata": {},
   "outputs": [
    {
     "data": {
      "text/plain": [
       "{'val': 1, 'next': <__main__.ListNode at 0x112298940>}"
      ]
     },
     "execution_count": 31,
     "metadata": {},
     "output_type": "execute_result"
    }
   ],
   "source": []
  },
  {
   "cell_type": "code",
   "execution_count": 14,
   "metadata": {},
   "outputs": [
    {
     "name": "stdout",
     "output_type": "stream",
     "text": [
      "4\n"
     ]
    }
   ],
   "source": [
    "# 백준 : 카드 2 \n",
    "\n",
    "N = int(input())\n",
    "\n",
    "Nlist = [i for i in range(1,N+1)]\n",
    "\n",
    "while len(Nlist) != 1 : \n",
    "    Nlist.pop(0) \n",
    "    top = Nlist.pop(0)\n",
    "    Nlist.append(top) \n",
    "\n",
    "print(Nlist[0])"
   ]
  },
  {
   "cell_type": "code",
   "execution_count": 13,
   "metadata": {},
   "outputs": [
    {
     "data": {
      "text/plain": [
       "[1, 2, 3, 4, 5, 6]"
      ]
     },
     "execution_count": 13,
     "metadata": {},
     "output_type": "execute_result"
    }
   ],
   "source": [
    "Nlist"
   ]
  },
  {
   "cell_type": "code",
   "execution_count": null,
   "metadata": {},
   "outputs": [],
   "source": []
  }
 ],
 "metadata": {
  "kernelspec": {
   "display_name": "Python 3.10.2 64-bit",
   "language": "python",
   "name": "python3"
  },
  "language_info": {
   "codemirror_mode": {
    "name": "ipython",
    "version": 3
   },
   "file_extension": ".py",
   "mimetype": "text/x-python",
   "name": "python",
   "nbconvert_exporter": "python",
   "pygments_lexer": "ipython3",
   "version": "3.10.2"
  },
  "orig_nbformat": 4,
  "vscode": {
   "interpreter": {
    "hash": "aee8b7b246df8f9039afb4144a1f6fd8d2ca17a180786b69acc140d282b71a49"
   }
  }
 },
 "nbformat": 4,
 "nbformat_minor": 2
}
