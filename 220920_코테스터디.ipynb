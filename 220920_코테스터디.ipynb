{
 "cells": [
  {
   "cell_type": "code",
   "execution_count": 37,
   "metadata": {},
   "outputs": [
    {
     "name": "stdout",
     "output_type": "stream",
     "text": [
      "3\n"
     ]
    }
   ],
   "source": [
    "# 32 : 섬의 개수 \n",
    "grid = [[1,1,0,0,0],[1,1,0,0,0],[0,0,1,0,0],[0,0,0,1,1]]\n",
    "\n",
    "cnt = 0 \n",
    "\n",
    "def dfs(i,j):\n",
    "    if i<0 or i >= len(grid) or j<0 or j >= len(grid[0]) or grid[i][j] != 1:\n",
    "        return \n",
    "\n",
    "    grid[i][j] = 0 \n",
    "    dfs(i+1,j)\n",
    "    dfs(i-1,j)\n",
    "    dfs(i,j+1)\n",
    "    dfs(i,j-1)\n",
    "\n",
    "for i in range(len(grid)):\n",
    "    for j in range(len(grid[0])):\n",
    "        if grid[i][j]==1 : \n",
    "            dfs(i,j)\n",
    "            cnt += 1 \n",
    "\n",
    "print(cnt)"
   ]
  },
  {
   "cell_type": "code",
   "execution_count": 49,
   "metadata": {},
   "outputs": [
    {
     "name": "stdout",
     "output_type": "stream",
     "text": [
      "['ad', 'ae', 'af', 'bd', 'be', 'bf', 'cd', 'ce', 'cf']\n"
     ]
    }
   ],
   "source": [
    "# 33 : 전화 번호 문자 조합 (개어려움)\n",
    "input = \"23\" \n",
    "\n",
    "num_dict = {\"2\":\"abc\",\"3\":\"def\",\"4\":\"ghi\",\"5\":\"jkl\",\"6\":\"mno\",\"7\":\"pqrs\",\"8\":\"tuv\",\"9\":\"wxyz\"}\n",
    "result = []\n",
    "\n",
    "def dfs(index,discovered):\n",
    "    if len(discovered) == len(input) :\n",
    "        result.append(discovered) \n",
    "        return \n",
    "\n",
    "    for i in range(index,len(input)):\n",
    "        for j in num_dict[input[i]]:\n",
    "            dfs(i+1,discovered+j)\n",
    "\n",
    "\n",
    "dfs(0,\"\")\n",
    "print(result)\n"
   ]
  }
 ],
 "metadata": {
  "kernelspec": {
   "display_name": "Python 3.10.2 64-bit",
   "language": "python",
   "name": "python3"
  },
  "language_info": {
   "codemirror_mode": {
    "name": "ipython",
    "version": 3
   },
   "file_extension": ".py",
   "mimetype": "text/x-python",
   "name": "python",
   "nbconvert_exporter": "python",
   "pygments_lexer": "ipython3",
   "version": "3.10.2"
  },
  "orig_nbformat": 4,
  "vscode": {
   "interpreter": {
    "hash": "aee8b7b246df8f9039afb4144a1f6fd8d2ca17a180786b69acc140d282b71a49"
   }
  }
 },
 "nbformat": 4,
 "nbformat_minor": 2
}
