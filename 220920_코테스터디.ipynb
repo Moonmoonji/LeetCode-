{
 "cells": [
  {
   "cell_type": "code",
   "execution_count": 37,
   "metadata": {},
   "outputs": [
    {
     "name": "stdout",
     "output_type": "stream",
     "text": [
      "3\n"
     ]
    }
   ],
   "source": [
    "# 32 : 섬의 개수 \n",
    "grid = [[1,1,0,0,0],[1,1,0,0,0],[0,0,1,0,0],[0,0,0,1,1]]\n",
    "\n",
    "cnt = 0 \n",
    "\n",
    "def dfs(i,j):\n",
    "    if i<0 or i >= len(grid) or j<0 or j >= len(grid[0]) or grid[i][j] != 1:\n",
    "        return \n",
    "\n",
    "    grid[i][j] = 0 \n",
    "    dfs(i+1,j)\n",
    "    dfs(i-1,j)\n",
    "    dfs(i,j+1)\n",
    "    dfs(i,j-1)\n",
    "\n",
    "for i in range(len(grid)):\n",
    "    for j in range(len(grid[0])):\n",
    "        if grid[i][j]==1 : \n",
    "            dfs(i,j)\n",
    "            cnt += 1 \n",
    "\n",
    "print(cnt)"
   ]
  },
  {
   "cell_type": "code",
   "execution_count": 49,
   "metadata": {},
   "outputs": [
    {
     "name": "stdout",
     "output_type": "stream",
     "text": [
      "['ad', 'ae', 'af', 'bd', 'be', 'bf', 'cd', 'ce', 'cf']\n"
     ]
    }
   ],
   "source": [
    "# 33 : 전화 번호 문자 조합 (개어려움)\n",
    "input = \"23\" \n",
    "\n",
    "num_dict = {\"2\":\"abc\",\"3\":\"def\",\"4\":\"ghi\",\"5\":\"jkl\",\"6\":\"mno\",\"7\":\"pqrs\",\"8\":\"tuv\",\"9\":\"wxyz\"}\n",
    "result = []\n",
    "\n",
    "def dfs(index,discovered):\n",
    "    if len(discovered) == len(input) :\n",
    "        result.append(discovered) \n",
    "        return \n",
    "\n",
    "    for i in range(index,len(input)):\n",
    "        for j in num_dict[input[i]]:\n",
    "            dfs(i+1,discovered+j)\n",
    "\n",
    "\n",
    "dfs(0,\"\")\n",
    "print(result)\n"
   ]
  },
  {
   "cell_type": "code",
   "execution_count": 4,
   "metadata": {},
   "outputs": [
    {
     "name": "stdout",
     "output_type": "stream",
     "text": [
      "012534"
     ]
    }
   ],
   "source": [
    " # 예제1 : 주어진 그래프를 DFS로 순회하기 \n",
    "\n",
    "grid = [[1, 1, 1, 1, 0, 0],[1, 1, 0, 0, 0, 0],[1, 0, 1, 0, 0, 1],[1, 0, 0, 1, 1, 0],[0, 0, 0, 1, 1, 0],[0, 0, 1, 0, 0, 1]]\n",
    "\n",
    "visited = [0]*len(grid)\n",
    "\n",
    "def dfs(v):\n",
    "    print(v,end='')\n",
    "    visited[v]=1\n",
    "    for i in range(len(grid[0])):\n",
    "        if grid[v][i]and not visited[i]:\n",
    "            dfs(i)\n",
    "\n",
    "dfs(0)\n"
   ]
  },
  {
   "cell_type": "code",
   "execution_count": null,
   "metadata": {},
   "outputs": [],
   "source": []
  }
 ],
 "metadata": {
  "kernelspec": {
   "display_name": "Python 3.9.12 ('base')",
   "language": "python",
   "name": "python3"
  },
  "language_info": {
   "codemirror_mode": {
    "name": "ipython",
    "version": 3
   },
   "file_extension": ".py",
   "mimetype": "text/x-python",
   "name": "python",
   "nbconvert_exporter": "python",
   "pygments_lexer": "ipython3",
   "version": "3.9.12"
  },
  "orig_nbformat": 4,
  "vscode": {
   "interpreter": {
    "hash": "c38845287c5c464ba778d7a7fdb49f98ec4f5994a7e44c700d8c1b12c27ce90a"
   }
  }
 },
 "nbformat": 4,
 "nbformat_minor": 2
}
