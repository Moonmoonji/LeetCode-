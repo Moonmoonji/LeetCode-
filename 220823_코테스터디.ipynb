{
 "cells": [
  {
   "cell_type": "code",
   "execution_count": 13,
   "metadata": {},
   "outputs": [
    {
     "data": {
      "text/plain": [
       "False"
      ]
     },
     "execution_count": 13,
     "metadata": {},
     "output_type": "execute_result"
    }
   ],
   "source": [
    "# 20: 유효한 괄호\n",
    "\n",
    "def isValid(s) :\n",
    "    dict_s = {'(' : ')','[' : ']','{': '}'}\n",
    "    stack = [] \n",
    "\n",
    "    for i in range(len(s)):\n",
    "        if s[i] in ['(','[','{'] : \n",
    "            stack.append(s[i]) \n",
    "            continue \n",
    "\n",
    "        if len(stack)!= 0 and dict_s[stack[-1]] == s[i] : \n",
    "            stack.pop() \n",
    "        else : \n",
    "            return False \n",
    "    return len(stack) == 0 \n",
    "\n",
    "isValid(\"]\")\n"
   ]
  },
  {
   "cell_type": "code",
   "execution_count": 35,
   "metadata": {},
   "outputs": [
    {
     "data": {
      "text/plain": [
       "'acdb'"
      ]
     },
     "execution_count": 35,
     "metadata": {},
     "output_type": "execute_result"
    }
   ],
   "source": [
    "# 21 : 중복 문자 제거 (진자 잘 모르겠움)\n",
    "def removeDuplicateLetters(s) : \n",
    "    set_s = set(s) \n",
    "    sorted_set = sorted(set_s) \n",
    "\n",
    "    for x in sorted_set : \n",
    "        suffix = s[s.index(x):]\n",
    "        if set_s == set(suffix) : \n",
    "            return x+removeDuplicateLetters(suffix.replace(x, \"\"))\n",
    "\n",
    "    return \"\"\n",
    "\n",
    "removeDuplicateLetters(\"cbacdcbc\")\n"
   ]
  },
  {
   "cell_type": "code",
   "execution_count": 28,
   "metadata": {},
   "outputs": [
    {
     "data": {
      "text/plain": [
       "[1, 3, 2]"
      ]
     },
     "execution_count": 28,
     "metadata": {},
     "output_type": "execute_result"
    }
   ],
   "source": [
    "# 프로그래머스 추가 문제 : 기능 개발 \n",
    "import math \n",
    "def solution(progresses,speeds) : \n",
    "    days = [] \n",
    "    max_num  = 0 \n",
    "    for i in range(len(progresses)) : \n",
    "        day = math.ceil((100-progresses[i])/speeds[i])\n",
    "        days.append(day) \n",
    "\n",
    "    ret = [] \n",
    "    cnt = 1 \n",
    "    maxtime = 0\n",
    "\n",
    "    while len(days) > 0 : \n",
    "        time = days.pop(0) \n",
    "        maxtime = max(maxtime, time)\n",
    "        \n",
    "        if len(days)==0 : \n",
    "            break \n",
    "\n",
    "        if maxtime < days[0] and len(days)!=0: \n",
    "            ret.append(cnt) \n",
    "            cnt = 1 \n",
    "\n",
    "        else : \n",
    "            cnt += 1 \n",
    "    ret.append(cnt) \n",
    "    return ret\n",
    "\n",
    "progresses = [95, 90, 99, 99, 80, 99]\n",
    "speeds = [1, 1, 1, 1, 1, 1]\n",
    "\n",
    "solution(progresses,speeds) "
   ]
  },
  {
   "cell_type": "code",
   "execution_count": null,
   "metadata": {},
   "outputs": [],
   "source": []
  }
 ],
 "metadata": {
  "kernelspec": {
   "display_name": "Python 3.10.2 64-bit",
   "language": "python",
   "name": "python3"
  },
  "language_info": {
   "codemirror_mode": {
    "name": "ipython",
    "version": 3
   },
   "file_extension": ".py",
   "mimetype": "text/x-python",
   "name": "python",
   "nbconvert_exporter": "python",
   "pygments_lexer": "ipython3",
   "version": "3.10.2"
  },
  "orig_nbformat": 4,
  "vscode": {
   "interpreter": {
    "hash": "aee8b7b246df8f9039afb4144a1f6fd8d2ca17a180786b69acc140d282b71a49"
   }
  }
 },
 "nbformat": 4,
 "nbformat_minor": 2
}
