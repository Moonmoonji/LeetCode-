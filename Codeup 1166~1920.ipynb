{
 "cells": [
  {
   "cell_type": "code",
   "execution_count": 2,
   "id": "e572b8a6",
   "metadata": {},
   "outputs": [
    {
     "name": "stdout",
     "output_type": "stream",
     "text": [
      "2012\n",
      "Leap\n"
     ]
    }
   ],
   "source": [
    "# 1166 : 윤년 판별\n",
    "n = int(input()) \n",
    "\n",
    "if n%400 == 0 :\n",
    "    print(\"Leap\") \n",
    "else: \n",
    "    if n%4 ==0 and n%100 != 0 :\n",
    "        print(\"Leap\")\n",
    "    else:\n",
    "        print(\"Normal\")"
   ]
  },
  {
   "cell_type": "code",
   "execution_count": 6,
   "id": "12007e52",
   "metadata": {},
   "outputs": [
    {
     "name": "stdout",
     "output_type": "stream",
     "text": [
      "0 29\n",
      "23 29\n"
     ]
    }
   ],
   "source": [
    "# 1173 : 30분전\n",
    "h,m = map(int,input().split()) \n",
    "\n",
    "if m >= 30 : \n",
    "    if h == 0:\n",
    "        h = 0\n",
    "    m -= 30 \n",
    "    print(h,m)\n",
    "\n",
    "else: \n",
    "    if h == 0:\n",
    "        h = 23\n",
    "    else : \n",
    "        h -= 1\n",
    "    m += 30   \n",
    "    print(h,m)"
   ]
  },
  {
   "cell_type": "code",
   "execution_count": 8,
   "id": "02f3c4eb",
   "metadata": {},
   "outputs": [
    {
     "name": "stdout",
     "output_type": "stream",
     "text": [
      "932\n",
      "3\n"
     ]
    }
   ],
   "source": [
    "# 1278 : 자릿수 계산\n",
    "n = input()\n",
    "print(len(n))"
   ]
  },
  {
   "cell_type": "code",
   "execution_count": 9,
   "id": "fe41a5cb",
   "metadata": {},
   "outputs": [
    {
     "name": "stdout",
     "output_type": "stream",
     "text": [
      "3\n",
      "7\n",
      "-4\n",
      "-6\n",
      "5\n",
      "7\n",
      "-6\n"
     ]
    }
   ],
   "source": [
    "# 1286 : 최댓값, 최솟값\n",
    "min_n = 200000000\n",
    "max_n= -200000000\n",
    "for i in range(5):\n",
    "    n = int(input())\n",
    "    \n",
    "    if n >= max_n : \n",
    "        max_n = n \n",
    "    if n <= min_n :\n",
    "        min_n=n \n",
    "\n",
    "print(max_n)\n",
    "print(min_n)"
   ]
  },
  {
   "cell_type": "code",
   "execution_count": 8,
   "id": "54403cea",
   "metadata": {},
   "outputs": [
    {
     "name": "stdout",
     "output_type": "stream",
     "text": [
      "10 3\n",
      "**********\n",
      "**  *  * *\n",
      "*  *  *  *\n",
      "* *  *  **\n",
      "**  *  * *\n",
      "*  *  *  *\n",
      "* *  *  **\n",
      "**  *  * *\n",
      "*  *  *  *\n",
      "**********\n"
     ]
    }
   ],
   "source": [
    "# 1369 : 빗금 친 사각형 출력하기 \n",
    "\n",
    "n, k = map(int, input().split())\n",
    "\n",
    "for i in range(1, n+1):\n",
    "    for j in range(1, n+1):\n",
    "        if (i == 1) or (i == n) or (j == 1) or (j == n):\n",
    "            print('*', end='')\n",
    "        elif (i+j-1) % k == 0:\n",
    "            print('*', end='')\n",
    "        else:\n",
    "            print(' ', end='')\n",
    "    print()\n"
   ]
  },
  {
   "cell_type": "code",
   "execution_count": 11,
   "id": "aabfbeb2",
   "metadata": {},
   "outputs": [
    {
     "name": "stdout",
     "output_type": "stream",
     "text": [
      "10\n",
      "3\n",
      "4\n",
      "1\n",
      "10\n",
      "2\n",
      "6\n",
      "7\n",
      "5\n",
      "9\n",
      "8\n"
     ]
    }
   ],
   "source": [
    "# 1411 : 빠진 카드\n",
    "N = int(input())\n",
    "card_total = [i for i in range(1,N+1)]\n",
    "for i in range(N-1):\n",
    "    c = int(input())\n",
    "    if c in card_total : \n",
    "        card_total.remove(c)\n",
    "print(card_total[0])\n",
    "        "
   ]
  },
  {
   "cell_type": "code",
   "execution_count": 11,
   "id": "523422f8",
   "metadata": {},
   "outputs": [
    {
     "name": "stdout",
     "output_type": "stream",
     "text": [
      "5\n",
      "17 24 1 8 15 \n",
      "23 5 7 14 16 \n",
      "4 6 13 20 22 \n",
      "10 12 19 21 3 \n",
      "11 18 25 2 9 \n"
     ]
    }
   ],
   "source": [
    "# 1510 : 홀수 마방진 \n",
    "n = int(input())\n",
    "array = [[0 for i in range(n)] for j in range(n)] \n",
    "\n",
    "start = 1 \n",
    "middle = n//2 \n",
    "row_start = 0\n",
    "column_start=middle\n",
    "\n",
    "array[0][middle] = start \n",
    "\n",
    "for i in range(2,(n**2+1)):\n",
    "    if (i-1)%n == 0 :\n",
    "        if row_start == n-1:\n",
    "            row_start = 0\n",
    "        else : \n",
    "            row_start+=1 \n",
    "    else : \n",
    "        if row_start == 0 : \n",
    "            row_start = n-1 \n",
    "        else :          \n",
    "            row_start -= 1\n",
    "\n",
    "        if column_start==n-1:\n",
    "            column_start =0 \n",
    "        else: \n",
    "            column_start +=1 \n",
    "        \n",
    "    array[row_start][column_start] = i \n",
    "    \n",
    "\n",
    "for i in range(n):\n",
    "    for j in range(n):\n",
    "        print(array[i][j], end = ' ')\n",
    "    print()\n",
    "    \n"
   ]
  },
  {
   "cell_type": "code",
   "execution_count": 39,
   "id": "167ab962",
   "metadata": {
    "scrolled": false
   },
   "outputs": [
    {
     "name": "stdout",
     "output_type": "stream",
     "text": [
      "1 1\n",
      "1 1\n"
     ]
    }
   ],
   "source": [
    "# 1807 : 우박수 길이 (3n+1) \n",
    "a,b = map(int,input().split())\n",
    "max_n = 0\n",
    "\n",
    "for i in range(a,b+1):\n",
    "    woobak = i \n",
    "    cnt = 1\n",
    "    \n",
    "    while True :\n",
    "        if woobak == 1.0:\n",
    "            break \n",
    "            \n",
    "        if woobak % 2==1:\n",
    "            woobak = 3*woobak+1\n",
    "        else: \n",
    "            woobak = woobak/2 \n",
    "        cnt += 1 \n",
    "\n",
    "    if cnt > max_n : \n",
    "        max_n = cnt \n",
    "        max_i = i  \n",
    "    \n",
    "print(max_i,max_n)"
   ]
  },
  {
   "cell_type": "code",
   "execution_count": 48,
   "id": "8c8e99e5",
   "metadata": {},
   "outputs": [
    {
     "name": "stdout",
     "output_type": "stream",
     "text": [
      "7\n",
      "111\n"
     ]
    }
   ],
   "source": [
    "# 1920 : (재귀함수) 2진수 변환\n",
    "n = int(input())\n",
    "array = [] \n",
    "def find_binary(k):\n",
    "    a = k//2 \n",
    "    b = k%2 \n",
    "    array.insert(0,str(b))\n",
    "    if a != 0 :\n",
    "        find_binary(a)\n",
    "    return array\n",
    "\n",
    "print(''.join(find_binary(n)))\n"
   ]
  }
 ],
 "metadata": {
  "kernelspec": {
   "display_name": "jiwon",
   "language": "python",
   "name": "jiwon"
  },
  "language_info": {
   "codemirror_mode": {
    "name": "ipython",
    "version": 3
   },
   "file_extension": ".py",
   "mimetype": "text/x-python",
   "name": "python",
   "nbconvert_exporter": "python",
   "pygments_lexer": "ipython3",
   "version": "3.7.11"
  }
 },
 "nbformat": 4,
 "nbformat_minor": 5
}
