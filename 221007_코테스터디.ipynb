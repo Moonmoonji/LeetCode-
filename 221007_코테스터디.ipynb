{
 "cells": [
  {
   "cell_type": "code",
   "execution_count": 11,
   "metadata": {},
   "outputs": [],
   "source": [
    "# 이진트리의 최대 깊이 \n",
    "\n",
    "\n",
    "from typing import Optional\n",
    "\n",
    "\n",
    "root = [3,9,20,None, None, 15,17]\n",
    "result = []\n",
    "\n",
    "class TreeNode : \n",
    "    def __init__(self,val=0, left= None, right=None):\n",
    "        self.val= val\n",
    "        self.left = left\n",
    "        self.right = right\n",
    "\n",
    "class Solution : \n",
    "    def maxDepth(self, root : Optional[TreeNode])-> int :  \n",
    "        def dfs(tree,i) : \n",
    "            if tree.left : \n",
    "                dfs(tree.left, i+1) \n",
    "            if tree.right : \n",
    "                dfs(tree.right, i+1) \n",
    "            if tree.left is None and tree.right is None : \n",
    "                print(i)\n",
    "                return \n",
    "                \n",
    "        if root is None : \n",
    "            result.append(0)\n",
    "        else : \n",
    "            dfs(root,1)\n",
    "\n",
    "        print(max(result))\n",
    "\n"
   ]
  },
  {
   "cell_type": "code",
   "execution_count": 14,
   "metadata": {},
   "outputs": [],
   "source": [
    "# 이진 트리의 직경 (이진트리의 가장 긴 경로길이 출력) \n",
    "\n",
    "class TreeNode:\n",
    "    def __init__(self, val=0, left=None, right=None):\n",
    "        self.val = val\n",
    "        self.left = left\n",
    "        self.right = right\n",
    "\n",
    "# 리프노드까지 탐색한 다음에 다음 부모로 거슬러 올라가면서 각각의 거리 계산 \n",
    "class Solution:\n",
    "    longest = 0\n",
    "    def diameterOfBinaryTree(self, root: TreeNode) -> int:\n",
    "        def dfs(node):\n",
    "            if not node:\n",
    "                return -1 \n",
    "            left = dfs(node.left)\n",
    "            right= dfs(node.right)\n",
    "            \n",
    "            self.longest = max(self.longest, left + right + 2)\n",
    "            return max(left, right) + 1\n",
    "        dfs(root)\n",
    "        \n",
    "        return self.longest"
   ]
  },
  {
   "cell_type": "code",
   "execution_count": 15,
   "metadata": {},
   "outputs": [
    {
     "ename": "NameError",
     "evalue": "name 'm' is not defined",
     "output_type": "error",
     "traceback": [
      "\u001b[0;31m---------------------------------------------------------------------------\u001b[0m",
      "\u001b[0;31mNameError\u001b[0m                                 Traceback (most recent call last)",
      "\u001b[1;32m/Users/moonmoonji/Desktop/git/LeetCode-/221007_코테스터디.ipynb 셀 3\u001b[0m in \u001b[0;36m<cell line: 3>\u001b[0;34m()\u001b[0m\n\u001b[1;32m      <a href='vscode-notebook-cell:/Users/moonmoonji/Desktop/git/LeetCode-/221007_%EC%BD%94%ED%85%8C%EC%8A%A4%ED%84%B0%EB%94%94.ipynb#W5sZmlsZQ%3D%3D?line=0'>1</a>\u001b[0m \u001b[39m# 백준 \u001b[39;00m\n\u001b[1;32m      <a href='vscode-notebook-cell:/Users/moonmoonji/Desktop/git/LeetCode-/221007_%EC%BD%94%ED%85%8C%EC%8A%A4%ED%84%B0%EB%94%94.ipynb#W5sZmlsZQ%3D%3D?line=1'>2</a>\u001b[0m \u001b[39mmap\u001b[39m \u001b[39m=\u001b[39m [[\u001b[39m0\u001b[39m \u001b[39mfor\u001b[39;00m col \u001b[39min\u001b[39;00m \u001b[39mrange\u001b[39m(\u001b[39m101\u001b[39m)\u001b[39mfor\u001b[39;00m row \u001b[39min\u001b[39;00m \u001b[39mrange\u001b[39m(\u001b[39m101\u001b[39m)]]\n\u001b[0;32m----> <a href='vscode-notebook-cell:/Users/moonmoonji/Desktop/git/LeetCode-/221007_%EC%BD%94%ED%85%8C%EC%8A%A4%ED%84%B0%EB%94%94.ipynb#W5sZmlsZQ%3D%3D?line=2'>3</a>\u001b[0m \u001b[39mfor\u001b[39;00m i \u001b[39min\u001b[39;00m \u001b[39mrange\u001b[39m(\u001b[39m1\u001b[39m,m\u001b[39m+\u001b[39m\u001b[39m1\u001b[39m): \n\u001b[1;32m      <a href='vscode-notebook-cell:/Users/moonmoonji/Desktop/git/LeetCode-/221007_%EC%BD%94%ED%85%8C%EC%8A%A4%ED%84%B0%EB%94%94.ipynb#W5sZmlsZQ%3D%3D?line=3'>4</a>\u001b[0m     x,y \u001b[39m=\u001b[39m \u001b[39mmap\u001b[39m(\u001b[39mint\u001b[39m,\u001b[39minput\u001b[39m()\u001b[39m.\u001b[39msplit())\n\u001b[1;32m      <a href='vscode-notebook-cell:/Users/moonmoonji/Desktop/git/LeetCode-/221007_%EC%BD%94%ED%85%8C%EC%8A%A4%ED%84%B0%EB%94%94.ipynb#W5sZmlsZQ%3D%3D?line=4'>5</a>\u001b[0m     \u001b[39mmap\u001b[39m[x][y] \u001b[39m=\u001b[39m \u001b[39m1\u001b[39m \n",
      "\u001b[0;31mNameError\u001b[0m: name 'm' is not defined"
     ]
    }
   ],
   "source": [
    "# 백준 1363 \n",
    "map = [[0 for col in range(101)for row in range(101)]]\n",
    "\n",
    "for i in range(1,m+1): \n",
    "    x,y = map(int,input().split())\n",
    "    map[x][y] = 1 \n",
    "    map[y][x] = 1 \n",
    "\n",
    "for k in range(1,n+1):\n",
    "    for i in range(1,n+1):\n",
    "        for j in range(1,n+1) : \n",
    "            if map[i][j] > map[i][k] +map[k][j] :\n",
    "                map[i][j] = map[i][k]+map[k][j]\n",
    "\n",
    "\n",
    "# 모르겠음 ..ㄷ ㄷ ㄷ"
   ]
  },
  {
   "cell_type": "code",
   "execution_count": null,
   "metadata": {},
   "outputs": [],
   "source": []
  }
 ],
 "metadata": {
  "kernelspec": {
   "display_name": "Python 3.10.2 64-bit",
   "language": "python",
   "name": "python3"
  },
  "language_info": {
   "codemirror_mode": {
    "name": "ipython",
    "version": 3
   },
   "file_extension": ".py",
   "mimetype": "text/x-python",
   "name": "python",
   "nbconvert_exporter": "python",
   "pygments_lexer": "ipython3",
   "version": "3.10.2"
  },
  "orig_nbformat": 4,
  "vscode": {
   "interpreter": {
    "hash": "aee8b7b246df8f9039afb4144a1f6fd8d2ca17a180786b69acc140d282b71a49"
   }
  }
 },
 "nbformat": 4,
 "nbformat_minor": 2
}
