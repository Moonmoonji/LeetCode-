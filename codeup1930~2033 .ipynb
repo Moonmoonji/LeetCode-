{
 "cells": [
  {
   "cell_type": "code",
   "execution_count": 13,
   "id": "43006468",
   "metadata": {},
   "outputs": [
    {
     "name": "stdout",
     "output_type": "stream",
     "text": [
      "1 3\n",
      "6\n",
      "2 3\n",
      "10\n",
      "4 10\n",
      "2002\n",
      "10 10\n",
      "167960\n",
      "\n"
     ]
    }
   ],
   "source": [
    "# 1930 : SuperSum \n",
    "def SuperSum(k,n):\n",
    "    supersum = 0\n",
    "    memo = [[0 for _ in range(k)] for _ in range(n)]  \n",
    "    if k==0 : \n",
    "        return n  \n",
    "    \n",
    "    else : \n",
    "        for i in range(1,n+1): \n",
    "            supersum += SuperSum(k-1,i) \n",
    "    \n",
    "    return supersum \n",
    "    \n",
    "\n",
    "while True : \n",
    "    try : \n",
    "        a,b = map(int,input().split())\n",
    "        print(SuperSum(a,b)) \n",
    "        \n",
    "    except:\n",
    "        break "
   ]
  },
  {
   "cell_type": "code",
   "execution_count": 27,
   "id": "fd57fbb3",
   "metadata": {},
   "outputs": [
    {
     "name": "stdout",
     "output_type": "stream",
     "text": [
      "6\n",
      "2992 444 123 111 74 3\n",
      "내림차순\n"
     ]
    }
   ],
   "source": [
    "# 2007 : 오름차순? 내림차순? 1 \n",
    "\n",
    "n = int(input())\n",
    "dat_list = list(map(int,input().split())) \n",
    "\n",
    "sorted_list = sorted(dat_list)  \n",
    "rev_sorted_list = list(reversed(sorted_list))\n",
    "\n",
    "if sorted_list == dat_list : \n",
    "    print(\"오름차순\")\n",
    "elif rev_sorted_list == dat_list : \n",
    "    print(\"내림차순\")\n",
    "else : \n",
    "    print(\"섞임\")"
   ]
  },
  {
   "cell_type": "code",
   "execution_count": 32,
   "id": "a8c53c9a",
   "metadata": {},
   "outputs": [
    {
     "name": "stdout",
     "output_type": "stream",
     "text": [
      "3 \n",
      "4 4 4\n",
      "섞임\n"
     ]
    }
   ],
   "source": [
    "# 2008 : 오름차순 ? 내림차순? 2 \n",
    "n = int(input()) \n",
    "dat_list = list(map(int,input().split())) \n",
    "\n",
    "sorted_list = sorted(dat_list)  \n",
    "rev_sorted_list = list(reversed(sorted_list))\n",
    "\n",
    "if sorted_list == dat_list : \n",
    "    if len(set(dat_list)) == 1:\n",
    "        print(\"섞임\")\n",
    "    else: \n",
    "        print(\"오름차순\")\n",
    "        \n",
    "elif rev_sorted_list == dat_list : \n",
    "    print(\"내림차순\")\n",
    "else : \n",
    "    print(\"섞임\")"
   ]
  },
  {
   "cell_type": "code",
   "execution_count": 45,
   "id": "3327e6f0",
   "metadata": {},
   "outputs": [
    {
     "name": "stdout",
     "output_type": "stream",
     "text": [
      "10 2\n",
      "9\n"
     ]
    }
   ],
   "source": [
    "# 2009 : 아메리카노 \n",
    "k,n= map(int,input().split())\n",
    "free_coffee = k//n \n",
    "plus_coupon = free_coffee\n",
    "left_coupon= k%n\n",
    "plus_coupon += left_coupon \n",
    "\n",
    "while plus_coupon >=n :\n",
    "    free_coffee += plus_coupon//n\n",
    "    left_coupon = plus_coupon%n \n",
    "    plus_coupon = left_coupon+plus_coupon//n\n",
    "    \n",
    "print(free_coffee)"
   ]
  },
  {
   "cell_type": "code",
   "execution_count": 55,
   "id": "dd5cc16e",
   "metadata": {},
   "outputs": [
    {
     "name": "stdout",
     "output_type": "stream",
     "text": [
      "8\n",
      "12345678\n",
      "12,345,678\n"
     ]
    }
   ],
   "source": [
    "# 2016 : 천단위 구분기호 \n",
    "n = int(input()) \n",
    "n_list = list(input())\n",
    "ans_array = []\n",
    "\n",
    "for i in range(n):\n",
    "    ans_array.append(n_list[n-1-i])\n",
    "    if i%3 == 2 and i != n-1:\n",
    "        ans_array.append(',')\n",
    "answer1 = \"\".join(ans_array)\n",
    "answer2 = answer1[::-1]\n",
    "\n",
    "print(answer2)\n",
    "        "
   ]
  },
  {
   "cell_type": "code",
   "execution_count": 65,
   "id": "85c7425d",
   "metadata": {},
   "outputs": [
    {
     "name": "stdout",
     "output_type": "stream",
     "text": [
      "2 1\n",
      "1 2\n",
      "2\n",
      "1\n"
     ]
    }
   ],
   "source": [
    "# 2033 : 사다리 게임 \n",
    "k,n = map(int,input().split())\n",
    "array = []\n",
    "for i in range(n):\n",
    "    first,second = map(int,input().split()) \n",
    "    array.append([first,second])\n",
    "    \n",
    "p = int(input()) \n",
    "\n",
    "for i in range(n) : \n",
    "    if p == array[i][0] : \n",
    "        p = array[i][1] \n",
    "    elif p == array[i][1] : \n",
    "        p = array[i][0]\n",
    "print(p)"
   ]
  },
  {
   "cell_type": "code",
   "execution_count": null,
   "id": "5dc6e473",
   "metadata": {},
   "outputs": [],
   "source": []
  }
 ],
 "metadata": {
  "kernelspec": {
   "display_name": "jiwon",
   "language": "python",
   "name": "jiwon"
  },
  "language_info": {
   "codemirror_mode": {
    "name": "ipython",
    "version": 3
   },
   "file_extension": ".py",
   "mimetype": "text/x-python",
   "name": "python",
   "nbconvert_exporter": "python",
   "pygments_lexer": "ipython3",
   "version": "3.7.11"
  }
 },
 "nbformat": 4,
 "nbformat_minor": 5
}
