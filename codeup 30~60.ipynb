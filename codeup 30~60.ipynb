{
 "cells": [
  {
   "cell_type": "code",
   "execution_count": 32,
   "id": "f5552546",
   "metadata": {},
   "outputs": [
    {
     "name": "stdout",
     "output_type": "stream",
     "text": [
      "65\n",
      "A\n"
     ]
    }
   ],
   "source": [
    "#31 \n",
    "c = int(input()) \n",
    "print(chr(c)) "
   ]
  },
  {
   "cell_type": "code",
   "execution_count": 33,
   "id": "17b77ff3",
   "metadata": {},
   "outputs": [
    {
     "name": "stdout",
     "output_type": "stream",
     "text": [
      "-1\n",
      "1\n"
     ]
    }
   ],
   "source": [
    "#32 \n",
    "n = int(input())\n",
    "print(-n)"
   ]
  },
  {
   "cell_type": "code",
   "execution_count": 36,
   "id": "4be274f6",
   "metadata": {},
   "outputs": [
    {
     "name": "stdout",
     "output_type": "stream",
     "text": [
      "a\n",
      "b\n"
     ]
    }
   ],
   "source": [
    "#33\n",
    "n = ord(input())\n",
    "print(chr(n+1)) "
   ]
  },
  {
   "cell_type": "code",
   "execution_count": 37,
   "id": "2b66813a",
   "metadata": {},
   "outputs": [
    {
     "name": "stdout",
     "output_type": "stream",
     "text": [
      "123 -123\n",
      "246\n"
     ]
    }
   ],
   "source": [
    "#34 \n",
    "a,b = input().split() \n",
    "a = int(a)\n",
    "b = int(b) \n",
    "\n",
    "print(a-b)"
   ]
  },
  {
   "cell_type": "code",
   "execution_count": 39,
   "id": "952799d0",
   "metadata": {},
   "outputs": [
    {
     "name": "stdout",
     "output_type": "stream",
     "text": [
      "0.5 2.0\n",
      "1.0\n"
     ]
    }
   ],
   "source": [
    "#35 \n",
    "f1,f2 = input().split()\n",
    "f1 = float(f1)\n",
    "f2 = float(f2)\n",
    "print(f1*f2)"
   ]
  },
  {
   "cell_type": "code",
   "execution_count": 40,
   "id": "185efb5e",
   "metadata": {},
   "outputs": [
    {
     "name": "stdout",
     "output_type": "stream",
     "text": [
      "love 3\n",
      "lovelovelove\n"
     ]
    }
   ],
   "source": [
    "#36\n",
    "w,n = input().split()\n",
    "print(w*int(n))"
   ]
  },
  {
   "cell_type": "code",
   "execution_count": 41,
   "id": "164cfadf",
   "metadata": {},
   "outputs": [
    {
     "name": "stdout",
     "output_type": "stream",
     "text": [
      "3\n",
      "I love CS\n",
      "I love CSI love CSI love CS\n"
     ]
    }
   ],
   "source": [
    "#37\n",
    "n = input() \n",
    "s = input() \n",
    "print(int(n)*s)"
   ]
  },
  {
   "cell_type": "code",
   "execution_count": 43,
   "id": "708b547d",
   "metadata": {},
   "outputs": [
    {
     "name": "stdout",
     "output_type": "stream",
     "text": [
      "2 10\n",
      "1024\n"
     ]
    }
   ],
   "source": [
    "#38 \n",
    "a,b = input().split() \n",
    "a = int(a)\n",
    "b = int(b)\n",
    "print(a**b)"
   ]
  },
  {
   "cell_type": "code",
   "execution_count": 44,
   "id": "5483c081",
   "metadata": {},
   "outputs": [
    {
     "name": "stdout",
     "output_type": "stream",
     "text": [
      "4.0 2.0\n",
      "16.0\n"
     ]
    }
   ],
   "source": [
    "#39 \n",
    "f1,f2 = input().split()\n",
    "f1 = float(f1)\n",
    "f2 = float(f2) \n",
    "print(f1**f2)"
   ]
  },
  {
   "cell_type": "code",
   "execution_count": 45,
   "id": "da8ff29e",
   "metadata": {},
   "outputs": [
    {
     "name": "stdout",
     "output_type": "stream",
     "text": [
      "10 3\n",
      "3\n"
     ]
    }
   ],
   "source": [
    "#40 \n",
    "a,b = input().split()\n",
    "a = int(a)\n",
    "b = int(b) \n",
    "print(a//b)"
   ]
  },
  {
   "cell_type": "code",
   "execution_count": 47,
   "id": "546df38b",
   "metadata": {},
   "outputs": [
    {
     "name": "stdout",
     "output_type": "stream",
     "text": [
      "10 3\n",
      "1\n"
     ]
    }
   ],
   "source": [
    "#41 \n",
    "a,b = input().split()\n",
    "a = int(a)\n",
    "b = int(b)\n",
    "print(a%b)"
   ]
  },
  {
   "cell_type": "code",
   "execution_count": 48,
   "id": "7343e5d9",
   "metadata": {},
   "outputs": [
    {
     "name": "stdout",
     "output_type": "stream",
     "text": [
      "3.141592\n",
      "3.14\n"
     ]
    }
   ],
   "source": [
    "#42 \n",
    "a = input()\n",
    "a = float(a)\n",
    "print(format(a,\".2f\"))"
   ]
  },
  {
   "cell_type": "code",
   "execution_count": 49,
   "id": "2091874d",
   "metadata": {},
   "outputs": [
    {
     "name": "stdout",
     "output_type": "stream",
     "text": [
      "10.0 3.0\n",
      "3.333\n"
     ]
    }
   ],
   "source": [
    "#43\n",
    "f1, f2 = input().split()\n",
    "f1 = float(f1)\n",
    "f2 = float(f2) \n",
    "print(format(f1/f2,\".3f\"))"
   ]
  },
  {
   "cell_type": "code",
   "execution_count": 50,
   "id": "a73d59a4",
   "metadata": {},
   "outputs": [
    {
     "name": "stdout",
     "output_type": "stream",
     "text": [
      "10 3\n",
      "13\n",
      "7\n",
      "30\n",
      "3\n",
      "1\n",
      "3.33\n"
     ]
    }
   ],
   "source": [
    "#44 \n",
    "a,b = input().split()\n",
    "a = int(a)\n",
    "b = int(b)\n",
    "print(a+b)\n",
    "print(a-b)\n",
    "print(a*b)\n",
    "print(a//b)\n",
    "print(a%b)\n",
    "print(format(a/b,\".2f\"))"
   ]
  },
  {
   "cell_type": "code",
   "execution_count": 51,
   "id": "7317a769",
   "metadata": {},
   "outputs": [
    {
     "name": "stdout",
     "output_type": "stream",
     "text": [
      "1 2 3\n",
      "6 2.00\n"
     ]
    }
   ],
   "source": [
    "#45 \n",
    "a,b,c = map(int,input().split())\n",
    "sums = a+b+c \n",
    "mean = format(sums/3,\".2f\")\n",
    "print(sums,mean)"
   ]
  },
  {
   "cell_type": "code",
   "execution_count": 52,
   "id": "22d63dc3",
   "metadata": {},
   "outputs": [
    {
     "name": "stdout",
     "output_type": "stream",
     "text": [
      "10\n",
      "20\n"
     ]
    }
   ],
   "source": [
    "#46\n",
    "n = int(input())\n",
    "print(n<<1) #n을 2배한 값 출력\n",
    "\n",
    "# n<<2 : n을 4배 한 값 출력\n",
    "# n>>1 : n을 반으로 나눈 값 출력\n",
    "# n>>2 : n을 반으로 나눈 후 다시 반으로 나눈 값이 출력 "
   ]
  },
  {
   "cell_type": "code",
   "execution_count": 53,
   "id": "f1076840",
   "metadata": {},
   "outputs": [
    {
     "name": "stdout",
     "output_type": "stream",
     "text": [
      "1 3\n",
      "8\n"
     ]
    }
   ],
   "source": [
    "#47\n",
    "a,b = map(int,input().split())\n",
    "print(a<<b)"
   ]
  },
  {
   "cell_type": "code",
   "execution_count": 54,
   "id": "6fa239d4",
   "metadata": {},
   "outputs": [
    {
     "name": "stdout",
     "output_type": "stream",
     "text": [
      "1 9\n",
      "True\n"
     ]
    }
   ],
   "source": [
    "#48 \n",
    "a,b = map(int,input().split())\n",
    "print(a<b) "
   ]
  },
  {
   "cell_type": "code",
   "execution_count": 55,
   "id": "bbd08585",
   "metadata": {},
   "outputs": [
    {
     "name": "stdout",
     "output_type": "stream",
     "text": [
      "0 0\n",
      "True\n"
     ]
    }
   ],
   "source": [
    "#49 \n",
    "a,b = map(int,input().split()) \n",
    "print(a==b)"
   ]
  },
  {
   "cell_type": "code",
   "execution_count": 56,
   "id": "c93404c9",
   "metadata": {},
   "outputs": [
    {
     "name": "stdout",
     "output_type": "stream",
     "text": [
      "0 -1\n",
      "False\n"
     ]
    }
   ],
   "source": [
    "#50\n",
    "a,b = map(int,input().split())\n",
    "print(b>=a)"
   ]
  },
  {
   "cell_type": "code",
   "execution_count": 57,
   "id": "f84911f3",
   "metadata": {},
   "outputs": [
    {
     "name": "stdout",
     "output_type": "stream",
     "text": [
      "0 -1\n",
      "True\n"
     ]
    }
   ],
   "source": [
    "#51\n",
    "a,b = map(int,input().split())\n",
    "print(a!=b)"
   ]
  },
  {
   "cell_type": "code",
   "execution_count": 58,
   "id": "fdf7f1a8",
   "metadata": {},
   "outputs": [
    {
     "name": "stdout",
     "output_type": "stream",
     "text": [
      "0\n",
      "False\n"
     ]
    }
   ],
   "source": [
    "#52\n",
    "n=int(input())\n",
    "print(bool(n))"
   ]
  },
  {
   "cell_type": "code",
   "execution_count": 59,
   "id": "23e87142",
   "metadata": {},
   "outputs": [
    {
     "name": "stdout",
     "output_type": "stream",
     "text": [
      "0\n",
      "True\n"
     ]
    }
   ],
   "source": [
    "#53 \n",
    "a = bool(int(input()))\n",
    "print(not a)"
   ]
  },
  {
   "cell_type": "code",
   "execution_count": 61,
   "id": "08db1145",
   "metadata": {},
   "outputs": [
    {
     "name": "stdout",
     "output_type": "stream",
     "text": [
      "1 1\n",
      "True\n"
     ]
    }
   ],
   "source": [
    "#54\n",
    "a,b = map(int,input().split())\n",
    "print(bool(a) and bool(b))"
   ]
  },
  {
   "cell_type": "code",
   "execution_count": 62,
   "id": "6f3eed93",
   "metadata": {},
   "outputs": [
    {
     "name": "stdout",
     "output_type": "stream",
     "text": [
      "1 1\n",
      "True\n"
     ]
    }
   ],
   "source": [
    "#55\n",
    "a,b = map(int,input().split())\n",
    "print(bool(a) or bool(b))"
   ]
  },
  {
   "cell_type": "code",
   "execution_count": 64,
   "id": "829a9590",
   "metadata": {},
   "outputs": [
    {
     "name": "stdout",
     "output_type": "stream",
     "text": [
      "1 1\n",
      "False\n"
     ]
    }
   ],
   "source": [
    "#56 \n",
    "a,b = map(int,input().split())\n",
    "c = bool(a)\n",
    "d = bool(b) \n",
    "print((c and (not d)) or ((not c) and d))"
   ]
  },
  {
   "cell_type": "code",
   "execution_count": 65,
   "id": "796da645",
   "metadata": {},
   "outputs": [
    {
     "name": "stdout",
     "output_type": "stream",
     "text": [
      "0 0\n",
      "True\n"
     ]
    }
   ],
   "source": [
    "#57 \n",
    "a,b = map(int,input().split())\n",
    "c = bool(a)\n",
    "d = bool(b) \n",
    "\n",
    "print((c and d) or ((not c) and (not d)))"
   ]
  },
  {
   "cell_type": "code",
   "execution_count": 66,
   "id": "32027110",
   "metadata": {},
   "outputs": [
    {
     "name": "stdout",
     "output_type": "stream",
     "text": [
      "0 0\n",
      "True\n"
     ]
    }
   ],
   "source": [
    "#58 \n",
    "a,b = map(int,input().split())\n",
    "c = bool(a)\n",
    "d = bool(b) \n",
    "\n",
    "print((not c) and (not d))"
   ]
  },
  {
   "cell_type": "code",
   "execution_count": 67,
   "id": "7dc952be",
   "metadata": {},
   "outputs": [
    {
     "name": "stdout",
     "output_type": "stream",
     "text": [
      "2\n",
      "-3\n"
     ]
    }
   ],
   "source": [
    "#59 \n",
    "a = int(input())\n",
    "print(~a)"
   ]
  },
  {
   "cell_type": "code",
   "execution_count": 68,
   "id": "2b456013",
   "metadata": {},
   "outputs": [
    {
     "name": "stdout",
     "output_type": "stream",
     "text": [
      "3 5\n",
      "1\n"
     ]
    }
   ],
   "source": [
    "#60 \n",
    "a,b = map(int,input().split()) \n",
    "print(a&b)"
   ]
  },
  {
   "cell_type": "code",
   "execution_count": null,
   "id": "9867de1b",
   "metadata": {},
   "outputs": [],
   "source": []
  }
 ],
 "metadata": {
  "kernelspec": {
   "display_name": "jiwon",
   "language": "python",
   "name": "jiwon"
  },
  "language_info": {
   "codemirror_mode": {
    "name": "ipython",
    "version": 3
   },
   "file_extension": ".py",
   "mimetype": "text/x-python",
   "name": "python",
   "nbconvert_exporter": "python",
   "pygments_lexer": "ipython3",
   "version": "3.7.11"
  }
 },
 "nbformat": 4,
 "nbformat_minor": 5
}
