{
 "cells": [
  {
   "cell_type": "markdown",
   "metadata": {},
   "source": [
    "## 1) 백준 11724번 연결 요소의 개수"
   ]
  },
  {
   "cell_type": "code",
   "execution_count": 1,
   "metadata": {},
   "outputs": [
    {
     "name": "stdout",
     "output_type": "stream",
     "text": [
      "2\n"
     ]
    }
   ],
   "source": [
    "# 입력 1\n",
    "n,m = map(int,input().split())\n",
    "  \n",
    "graph = [[0 for _ in range(n)] for _ in range(n)]\n",
    "visited = [False]*n \n",
    "num_linked = 0 \n",
    "\n",
    "# 입력 2 \n",
    "for _ in range(m):\n",
    "    u,v = map(int,input().split())\n",
    "    u -= 1 \n",
    "    v -= 1 \n",
    "    graph[u][v] = graph[v][u] = 1\n",
    "\n",
    "def dfs(i) : \n",
    "    for j in range(n):\n",
    "        if graph[i][j] == 1 and not visited[j]:\n",
    "            visited[j] = True\n",
    "            dfs(j)\n",
    "\n",
    "for i in range(n):\n",
    "    if visited[i] is False: \n",
    "        dfs(i)\n",
    "        num_linked +=1 \n",
    "\n",
    "print(num_linked)"
   ]
  },
  {
   "cell_type": "markdown",
   "metadata": {},
   "source": [
    "## 2) 백준 6603번 로또 "
   ]
  },
  {
   "cell_type": "code",
   "execution_count": 12,
   "metadata": {},
   "outputs": [
    {
     "name": "stdout",
     "output_type": "stream",
     "text": [
      "1 2 3 4 5 6\n",
      "1 2 3 4 5 7\n",
      "1 2 3 4 6 7\n",
      "1 2 3 5 6 7\n",
      "1 2 4 5 6 7\n",
      "1 3 4 5 6 7\n",
      "2 3 4 5 6 7\n",
      "\n",
      "1 2 3 5 8 13\n",
      "1 2 3 5 8 21\n",
      "1 2 3 5 8 34\n",
      "1 2 3 5 13 21\n",
      "1 2 3 5 13 34\n",
      "1 2 3 5 21 34\n",
      "1 2 3 8 13 21\n",
      "1 2 3 8 13 34\n",
      "1 2 3 8 21 34\n",
      "1 2 3 13 21 34\n",
      "1 2 5 8 13 21\n",
      "1 2 5 8 13 34\n",
      "1 2 5 8 21 34\n",
      "1 2 5 13 21 34\n",
      "1 2 8 13 21 34\n",
      "1 3 5 8 13 21\n",
      "1 3 5 8 13 34\n",
      "1 3 5 8 21 34\n",
      "1 3 5 13 21 34\n",
      "1 3 8 13 21 34\n",
      "1 5 8 13 21 34\n",
      "2 3 5 8 13 21\n",
      "2 3 5 8 13 34\n",
      "2 3 5 8 21 34\n",
      "2 3 5 13 21 34\n",
      "2 3 8 13 21 34\n",
      "2 5 8 13 21 34\n",
      "3 5 8 13 21 34\n",
      "\n"
     ]
    }
   ],
   "source": [
    "def dfs(depth,start):\n",
    "    if depth == 6 :\n",
    "        print(*ret)\n",
    "        return \n",
    "    \n",
    "    for i in range(start,k):\n",
    "        if depth+k-i <6 :\n",
    "            return \n",
    "\n",
    "        ret.append(s[i])\n",
    "        dfs(depth+1,i+1)\n",
    "        ret.pop()\n",
    "\n",
    "while True : \n",
    "    array = list(map(int, input().split()))\n",
    "    k = array[0]\n",
    "    array.pop(0)\n",
    "    s = array\n",
    "    ret = [] \n",
    "    dfs(0,0)\n",
    "    if k == 0 :\n",
    "        break \n",
    "    print()"
   ]
  },
  {
   "cell_type": "code",
   "execution_count": 11,
   "metadata": {},
   "outputs": [
    {
     "data": {
      "text/plain": [
       "1"
      ]
     },
     "execution_count": 11,
     "metadata": {},
     "output_type": "execute_result"
    }
   ],
   "source": [
    "arr = [1,2,3,4]\n",
    "arr.pop(0)\n",
    "arr"
   ]
  },
  {
   "cell_type": "code",
   "execution_count": null,
   "metadata": {},
   "outputs": [],
   "source": []
  }
 ],
 "metadata": {
  "kernelspec": {
   "display_name": "Python 3.9.12 ('base')",
   "language": "python",
   "name": "python3"
  },
  "language_info": {
   "codemirror_mode": {
    "name": "ipython",
    "version": 3
   },
   "file_extension": ".py",
   "mimetype": "text/x-python",
   "name": "python",
   "nbconvert_exporter": "python",
   "pygments_lexer": "ipython3",
   "version": "3.9.12"
  },
  "orig_nbformat": 4,
  "vscode": {
   "interpreter": {
    "hash": "c38845287c5c464ba778d7a7fdb49f98ec4f5994a7e44c700d8c1b12c27ce90a"
   }
  }
 },
 "nbformat": 4,
 "nbformat_minor": 2
}
