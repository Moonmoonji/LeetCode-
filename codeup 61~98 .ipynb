{
 "cells": [
  {
   "cell_type": "code",
   "execution_count": 1,
   "id": "3c851483",
   "metadata": {},
   "outputs": [
    {
     "name": "stdout",
     "output_type": "stream",
     "text": [
      "3 7 9\n",
      "63\n"
     ]
    }
   ],
   "source": [
    "#91 \n",
    "a,b,c = map(int,input().split()) \n",
    "d=1\n",
    "while d%a!=0 or d%b!=0 or d%c!=0:\n",
    "    d+=1 \n",
    "print(d)"
   ]
  },
  {
   "cell_type": "code",
   "execution_count": 10,
   "id": "19ebee8f",
   "metadata": {},
   "outputs": [
    {
     "name": "stdout",
     "output_type": "stream",
     "text": [
      "10 \n",
      "1 3 2 2 5 6 7 4 5 9 \n",
      "1 2 1 1 2 1 1 0 1 0 0 0 0 0 0 0 0 0 0 0 0 0 0 "
     ]
    }
   ],
   "source": [
    "#92 \n",
    "n = int(input())\n",
    "a = input().split()\n",
    "for i in range(n):\n",
    "    a[i] = int(a[i])\n",
    "    \n",
    "d = [0]*24\n",
    "\n",
    "for i in range(n):\n",
    "    d[a[i]] += 1\n",
    "    \n",
    "for i in range(1,len(d)):\n",
    "    print(d[i], end= ' ')"
   ]
  },
  {
   "cell_type": "code",
   "execution_count": 11,
   "id": "ad55f55d",
   "metadata": {},
   "outputs": [
    {
     "name": "stdout",
     "output_type": "stream",
     "text": [
      "10\n",
      "10 4 2 3 6 6 7 9 8 5\n",
      "5 8 9 7 6 6 3 2 4 10 "
     ]
    }
   ],
   "source": [
    "# 93 \n",
    "n = int(input()) \n",
    "a = input().split() \n",
    "\n",
    "for i in range(n-1,-1,-1):\n",
    "    print(a[i],end=' ')"
   ]
  },
  {
   "cell_type": "code",
   "execution_count": 13,
   "id": "06ded2f7",
   "metadata": {},
   "outputs": [
    {
     "name": "stdout",
     "output_type": "stream",
     "text": [
      "10\n",
      "10 4 2 3 6 6 7 9 8 5\n",
      "2\n"
     ]
    }
   ],
   "source": [
    "# 94 \n",
    "n = int(input()) \n",
    "a = input().split() \n",
    "min_value =100000000\n",
    "for i in range(n):\n",
    "    a[i] = int(a[i]) \n",
    "\n",
    "for i in range(n):\n",
    "    if a[i] < min_value : \n",
    "        min_value = a[i]\n",
    "\n",
    "print(min_value)"
   ]
  },
  {
   "cell_type": "code",
   "execution_count": 19,
   "id": "fc6714d0",
   "metadata": {},
   "outputs": [
    {
     "name": "stdout",
     "output_type": "stream",
     "text": [
      "5\n",
      "1 1\n",
      "2 2\n",
      "3 3\n",
      "4 4\n",
      "5 5\n",
      "1 0 0 0 0 0 0 0 0 0 0 0 0 0 0 0 0 0 0 \n",
      "0 1 0 0 0 0 0 0 0 0 0 0 0 0 0 0 0 0 0 \n",
      "0 0 1 0 0 0 0 0 0 0 0 0 0 0 0 0 0 0 0 \n",
      "0 0 0 1 0 0 0 0 0 0 0 0 0 0 0 0 0 0 0 \n",
      "0 0 0 0 1 0 0 0 0 0 0 0 0 0 0 0 0 0 0 \n",
      "0 0 0 0 0 0 0 0 0 0 0 0 0 0 0 0 0 0 0 \n",
      "0 0 0 0 0 0 0 0 0 0 0 0 0 0 0 0 0 0 0 \n",
      "0 0 0 0 0 0 0 0 0 0 0 0 0 0 0 0 0 0 0 \n",
      "0 0 0 0 0 0 0 0 0 0 0 0 0 0 0 0 0 0 0 \n",
      "0 0 0 0 0 0 0 0 0 0 0 0 0 0 0 0 0 0 0 \n",
      "0 0 0 0 0 0 0 0 0 0 0 0 0 0 0 0 0 0 0 \n",
      "0 0 0 0 0 0 0 0 0 0 0 0 0 0 0 0 0 0 0 \n",
      "0 0 0 0 0 0 0 0 0 0 0 0 0 0 0 0 0 0 0 \n",
      "0 0 0 0 0 0 0 0 0 0 0 0 0 0 0 0 0 0 0 \n",
      "0 0 0 0 0 0 0 0 0 0 0 0 0 0 0 0 0 0 0 \n",
      "0 0 0 0 0 0 0 0 0 0 0 0 0 0 0 0 0 0 0 \n",
      "0 0 0 0 0 0 0 0 0 0 0 0 0 0 0 0 0 0 0 \n",
      "0 0 0 0 0 0 0 0 0 0 0 0 0 0 0 0 0 0 0 \n",
      "0 0 0 0 0 0 0 0 0 0 0 0 0 0 0 0 0 0 0 \n"
     ]
    }
   ],
   "source": [
    "# 95 \n",
    "d = [[0 for j in range(20)] for i in range(20)]\n",
    "\n",
    "n = int(input())\n",
    "for i in range(n):\n",
    "    x,y = input().split()\n",
    "    d[int(x)][(int(y))] = 1\n",
    "\n",
    "for i in range(1,20):\n",
    "    for j in range(1,20):\n",
    "        print(d[i][j], end =' ')\n",
    "    print()"
   ]
  },
  {
   "cell_type": "code",
   "execution_count": null,
   "id": "954859eb",
   "metadata": {},
   "outputs": [],
   "source": [
    "# 96\n",
    "d = []\n",
    "for i in range(19):\n",
    "    d.append(list(map(int,input().split())))\n",
    "\n",
    "n = int(input())\n",
    "for i in range(n):\n",
    "    x,y = map(int,input().split())\n",
    "    for j in range(19):\n",
    "        if d[x-1][j]==0 :\n",
    "            d[x-1][j]=1\n",
    "        else : \n",
    "            d[x-1][j]=0\n",
    "            \n",
    "        if d[j][y-1]==0:\n",
    "            d[j][y-1]=1\n",
    "        else :\n",
    "            d[j][y-1]=0\n",
    "           \n",
    "        \n",
    "for i in range(19):\n",
    "    for j in range(19): \n",
    "        print(d[i][j], end =' ')\n",
    "    print()"
   ]
  },
  {
   "cell_type": "code",
   "execution_count": 68,
   "id": "45b93905",
   "metadata": {},
   "outputs": [
    {
     "name": "stdout",
     "output_type": "stream",
     "text": [
      "5 5\n",
      "3\n",
      "2 0 1 1\n",
      "3 1 2 3\n",
      "4 1 2 5\n",
      "1 1 0 0 0 \n",
      "0 0 1 0 1 \n",
      "0 0 1 0 1 \n",
      "0 0 1 0 1 \n",
      "0 0 0 0 1 \n"
     ]
    }
   ],
   "source": [
    "# 97 설탕과자 뽑기 \n",
    "w,h = map(int,input().split())\n",
    "dx = [[0 for i in range(h)]for j in range(w)]\n",
    "\n",
    "n = int(input())\n",
    "for i in range(n):\n",
    "    l,d,x,y = map(int,input().split()) \n",
    "\n",
    "    if d == 0 :\n",
    "        for j in range(l):\n",
    "            dx[x-1][y-1+j] = 1\n",
    "    else : \n",
    "        for j in range(l):\n",
    "            dx[x-1+j][y-1] = 1\n",
    "\n",
    "for i in range(w):\n",
    "    for j in range(h):\n",
    "          print(dx[i][j], end = ' ')\n",
    "    print()"
   ]
  },
  {
   "cell_type": "code",
   "execution_count": 79,
   "id": "7bb5292f",
   "metadata": {},
   "outputs": [
    {
     "name": "stdout",
     "output_type": "stream",
     "text": [
      "1 1 1 1 1 1 1 1 1 1\n",
      "1 0 0 1 0 0 0 0 0 1\n",
      "1 0 0 1 1 1 0 0 0 1\n",
      "1 0 0 0 0 0 0 1 0 1\n",
      "1 0 0 0 0 0 0 1 0 1\n",
      "1 0 0 0 0 1 0 1 0 1\n",
      "1 0 0 0 0 1 2 1 0 1\n",
      "1 0 0 0 0 1 0 0 0 1\n",
      "1 0 0 0 0 0 0 0 0 1\n",
      "1 1 1 1 1 1 1 1 1 1\n",
      "1 1 1 1 1 1 1 1 1 1 \n",
      "1 9 9 1 0 0 0 0 0 1 \n",
      "1 0 9 1 1 1 0 0 0 1 \n",
      "1 0 9 9 9 9 9 1 0 1 \n",
      "1 0 0 0 0 0 9 1 0 1 \n",
      "1 0 0 0 0 1 9 1 0 1 \n",
      "1 0 0 0 0 1 9 1 0 1 \n",
      "1 0 0 0 0 1 0 0 0 1 \n",
      "1 0 0 0 0 0 0 0 0 1 \n",
      "1 1 1 1 1 1 1 1 1 1 \n"
     ]
    }
   ],
   "source": [
    "# 98 성실한 개미 \n",
    "d = []\n",
    "for i in range(10):\n",
    "    d.append(list(map(int,input().split())))\n",
    "\n",
    "i,j = 1,1 \n",
    "d[i][j] = 9\n",
    "\n",
    "while True:\n",
    "    if d[i][j+1] != 1 : \n",
    "        if d[i][j+1] == 2:\n",
    "            d[i][j+1] = 9\n",
    "            break \n",
    "        d[i][j+1] = 9\n",
    "        j += 1\n",
    "        continue\n",
    "  \n",
    "    elif d[i+1][j] != 1: \n",
    "        if d[i+1][j] == 2:\n",
    "            d[i+1][j] = 9\n",
    "            break\n",
    "        d[i+1][j]=9\n",
    "        i += 1\n",
    "\n",
    "for i in range(10):\n",
    "    for j in range(10):\n",
    "          print(d[i][j], end = ' ')\n",
    "    print()"
   ]
  },
  {
   "cell_type": "code",
   "execution_count": 81,
   "id": "50dd36a8",
   "metadata": {},
   "outputs": [
    {
     "name": "stdout",
     "output_type": "stream",
     "text": [
      "1 1 1 1 1 1 1 1 1 1\n",
      "1 0 0 1 0 0 0 0 0 1\n",
      "1 0 0 1 1 1 0 0 0 1\n",
      "1 0 0 0 0 0 0 1 0 1\n",
      "1 0 0 0 0 0 0 1 0 1\n",
      "1 0 0 0 0 1 0 1 0 1\n",
      "1 0 0 0 0 1 2 1 0 1\n",
      "1 0 0 0 0 1 0 0 0 1\n",
      "1 0 0 0 0 0 0 0 0 1\n",
      "1 1 1 1 1 1 1 1 1 1\n",
      "1 1 1 1 1 1 1 1 1 1 \n",
      "1 9 9 1 0 0 0 0 0 1 \n",
      "1 0 9 1 1 1 0 0 0 1 \n",
      "1 0 9 9 9 9 9 1 0 1 \n",
      "1 0 0 0 0 0 9 1 0 1 \n",
      "1 0 0 0 0 1 9 1 0 1 \n",
      "1 0 0 0 0 1 9 1 0 1 \n",
      "1 0 0 0 0 1 0 0 0 1 \n",
      "1 0 0 0 0 0 0 0 0 1 \n",
      "1 1 1 1 1 1 1 1 1 1 \n"
     ]
    }
   ],
   "source": [
    "# 98 성실한 개미 (2)\n",
    "d = []\n",
    "for i in range(10):\n",
    "    d.append(list(map(int,input().split())))\n",
    "\n",
    "i,j = 1,1 \n",
    "d[i][j] = 9\n",
    "\n",
    "while True:\n",
    "    if d[i][j+1] == 2:\n",
    "        d[i][j+1] = 9\n",
    "        break \n",
    "            \n",
    "    if d[i+1][j] == 2:\n",
    "        d[i+1][j] = 9\n",
    "        break\n",
    "            \n",
    "    if d[i][j+1] == 0 :\n",
    "        d[i][j+1] = 9\n",
    "        j += 1\n",
    "  \n",
    "    elif d[i+1][j] == 0: \n",
    "        d[i+1][j]=9\n",
    "        i += 1\n",
    "\n",
    "for i in range(10):\n",
    "    for j in range(10):\n",
    "          print(d[i][j], end = ' ')\n",
    "    print()"
   ]
  },
  {
   "cell_type": "code",
   "execution_count": null,
   "id": "c708c173",
   "metadata": {},
   "outputs": [],
   "source": []
  }
 ],
 "metadata": {
  "kernelspec": {
   "display_name": "jiwon",
   "language": "python",
   "name": "jiwon"
  },
  "language_info": {
   "codemirror_mode": {
    "name": "ipython",
    "version": 3
   },
   "file_extension": ".py",
   "mimetype": "text/x-python",
   "name": "python",
   "nbconvert_exporter": "python",
   "pygments_lexer": "ipython3",
   "version": "3.7.11"
  }
 },
 "nbformat": 4,
 "nbformat_minor": 5
}
